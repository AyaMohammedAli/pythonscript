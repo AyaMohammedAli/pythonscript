{
 "cells": [
  {
   "cell_type": "code",
   "execution_count": 1,
   "id": "4272a7ce",
   "metadata": {},
   "outputs": [],
   "source": [
    "import  os\n",
    "import psutil\n"
   ]
  },
  {
   "cell_type": "code",
   "execution_count": null,
   "id": "5f7fa10f",
   "metadata": {},
   "outputs": [
    {
     "data": {
      "text/plain": [
       "129657716126"
      ]
     },
     "execution_count": 6,
     "metadata": {},
     "output_type": "execute_result"
    }
   ],
   "source": [
    "def get_folder_size(path:str) -> int:\n",
    "    totalSize : int= 0\n",
    "\n",
    "    for dirpath,_,filenames in os.walk(path,onerror=lambda e:None):\n",
    "        for f in filenames:\n",
    "            try:\n",
    "                fp = os.path.join(dirpath, f)   # full path of file\n",
    "                if os.path.isfile(fp):\n",
    "                    totalSize +=os.path.getsize(fp)\n",
    "\n",
    "            except(PermissionError,FileNotFoundError):\n",
    "                continue\n",
    "    return totalSize\n",
    "\n",
    "get_folder_size('F:\\\\')\n",
    "\n"
   ]
  },
  {
   "cell_type": "code",
   "execution_count": null,
   "id": "8a3afa0b",
   "metadata": {},
   "outputs": [
    {
     "name": "stdout",
     "output_type": "stream",
     "text": [
      "<DirEntry '$RECYCLE.BIN'>\n",
      "<DirEntry 'aya'>\n",
      "<DirEntry 'mine'>\n",
      "<DirEntry 'msqlsrvr'>\n",
      "<DirEntry 'System Volume Information'>\n"
     ]
    },
    {
     "data": {
      "text/plain": [
       "('F:\\\\mine', 123121355577)"
      ]
     },
     "execution_count": 8,
     "metadata": {},
     "output_type": "execute_result"
    }
   ],
   "source": [
    "def get_bigger_folder(root_Path  : str)  -> int:\n",
    "    size :int = 0\n",
    "    biggestSize : int = 0\n",
    "    biggestFolder : str = None\n",
    "\n",
    "    for entery in os.scandir(root_Path): # iterate over the entires\n",
    "        print(entery)\n",
    "        try:\n",
    "    \n",
    "            if entery.is_dir(follow_symlinks=False):\n",
    "                size = get_folder_size(entery.path)\n",
    "                if size> biggestSize:\n",
    "                    biggestSize = size\n",
    "                    biggestFolder = entery.path \n",
    "        except(PermissionError,FileExistsError,FileNotFoundError):\n",
    "            continue\n",
    "    return biggestFolder,biggestSize\n",
    "\n",
    "get_bigger_folder('F:\\\\')\n"
   ]
  },
  {
   "cell_type": "code",
   "execution_count": null,
   "id": "c92d1133",
   "metadata": {},
   "outputs": [],
   "source": []
  },
  {
   "cell_type": "code",
   "execution_count": null,
   "id": "d85cd42b",
   "metadata": {},
   "outputs": [],
   "source": []
  },
  {
   "cell_type": "code",
   "execution_count": 12,
   "id": "67a6e9a9",
   "metadata": {},
   "outputs": [
    {
     "name": "stdout",
     "output_type": "stream",
     "text": [
      "Available partitions:\n",
      "- C:\\ (C:\\)\n",
      "- D:\\ (D:\\)\n",
      "- E:\\ (E:\\)\n",
      "- F:\\ (F:\\)\n",
      "\n",
      "🔹 Partition: D:\\\n",
      "   Total file size: 176.82 GB\n",
      "   Biggest folder: D:\\تعليم — 80.07 GB\n",
      "\n",
      "--- Profiling Report ---\n",
      "         8498276 function calls (8498159 primitive calls) in 70.758 seconds\n",
      "\n",
      "   Ordered by: cumulative time\n",
      "   List reduced from 330 to 10 due to restriction <10>\n",
      "\n",
      "   ncalls  tottime  percall  cumtime  percall filename:lineno(function)\n",
      "       27    0.359    0.013   51.812    1.919 e:\\installatinos\\anaconda\\Lib\\asyncio\\windows_events.py:443(select)\n",
      "       27    0.573    0.021   27.802    1.030 e:\\installatinos\\anaconda\\Lib\\asyncio\\windows_events.py:761(_poll)\n",
      "   408369   27.437    0.000   27.437    0.000 {built-in method nt._path_isfile}\n",
      "       22    0.578    0.026   24.283    1.104 C:\\Users\\ayama\\AppData\\Local\\Temp\\ipykernel_10336\\3216605091.py:9(get_folder_size)\n",
      "   408369    0.586    0.000   19.628    0.000 <frozen genericpath>:60(getsize)\n",
      "   408369   19.042    0.000   19.042    0.000 {built-in method nt.stat}\n",
      "        1    0.000    0.000   17.488   17.488 C:\\Users\\ayama\\AppData\\Local\\Temp\\ipykernel_10336\\3216605091.py:47(main)\n",
      "    70079    1.373    0.000   11.990    0.000 <frozen os>:286(walk)\n",
      "        1    0.000    0.000    7.473    7.473 C:\\Users\\ayama\\AppData\\Local\\Temp\\ipykernel_10336\\3216605091.py:30(get_biggest_folder)\n",
      "   478416    2.132    0.000    5.520    0.000 <frozen ntpath>:107(join)\n",
      "\n",
      "\n",
      "\n"
     ]
    }
   ],
   "source": [
    "import os\n",
    "import psutil\n",
    "from typing import Iterator, Tuple, List, Optional\n",
    "import cProfile\n",
    "import pstats\n",
    "import io\n",
    "\n",
    "\n",
    "def get_folder_size(path: str) -> int:\n",
    "    \"\"\"Return total size of a folder (in bytes).\"\"\"\n",
    "    total_size: int = 0\n",
    "    walker: Iterator[Tuple[str, List[str], List[str]]] = os.walk(path, onerror=lambda e: None)\n",
    "\n",
    "    for dirpath, _, filenames in walker:\n",
    "        for f in filenames:\n",
    "            try:\n",
    "                fp: str = os.path.join(dirpath, f)\n",
    "                if os.path.isfile(fp):\n",
    "                    total_size += os.path.getsize(fp)\n",
    "            except (PermissionError, FileNotFoundError):\n",
    "                continue\n",
    "    return total_size\n",
    "\n",
    "\n",
    "def bytes_to_gb(size_in_bytes: int) -> float:\n",
    "    \"\"\"Convert bytes to GB (2 decimal places).\"\"\"\n",
    "    return round(size_in_bytes / (1024**3), 2)\n",
    "\n",
    "\n",
    "def get_biggest_folder(root_path: str) -> Tuple[Optional[str], int]:\n",
    "    \"\"\"Return the biggest top-level folder in a partition.\"\"\"\n",
    "    biggest_folder: Optional[str] = None\n",
    "    biggest_size: int = 0\n",
    "\n",
    "    for entry in os.scandir(root_path):\n",
    "        if entry.is_dir(follow_symlinks=False):\n",
    "            try:\n",
    "                size = get_folder_size(entry.path)\n",
    "                if size > biggest_size:\n",
    "                    biggest_size = size\n",
    "                    biggest_folder = entry.path\n",
    "            except (PermissionError, FileNotFoundError):\n",
    "                continue\n",
    "    return biggest_folder, biggest_size\n",
    "\n",
    "\n",
    "def main():\n",
    "    # Show available partitions first\n",
    "    partitions = psutil.disk_partitions()\n",
    "    print(\"Available partitions:\")\n",
    "    for p in partitions:\n",
    "        print(f\"- {p.device} ({p.mountpoint})\")\n",
    "\n",
    "    # Ask user for a partition\n",
    "    user_choice = input(\"\\nEnter the partition letter (e.g., C, D, E, F): \").strip().upper()\n",
    "    partition_path = f\"{user_choice}:\\\\\"\n",
    "\n",
    "    print(f\"\\n🔹 Partition: {partition_path}\")\n",
    "    try:\n",
    "        # total partition file size\n",
    "        total_size = get_folder_size(partition_path)\n",
    "        print(f\"   Total file size: {bytes_to_gb(total_size)} GB\")\n",
    "\n",
    "        # biggest top-level folder\n",
    "        biggest_folder, biggest_size = get_biggest_folder(partition_path)\n",
    "        if biggest_folder:\n",
    "            print(f\"   Biggest folder: {biggest_folder} — {bytes_to_gb(biggest_size)} GB\")\n",
    "        else:\n",
    "            print(\"   No accessible folders found.\")\n",
    "    except PermissionError:\n",
    "        print(\"   Skipped (Permission Denied)\")\n",
    "    except Exception as e:\n",
    "        print(f\"   Error: {e}\")\n",
    "\n",
    "\n",
    "if __name__ == \"__main__\":\n",
    "\n",
    "    pr = cProfile.Profile()\n",
    "    pr.enable()\n",
    "    main()\n",
    "\n",
    "\n",
    "    pr.disable()\n",
    "    s = io.StringIO()\n",
    "    ps = pstats.Stats(pr, stream=s).sort_stats(\"cumulative\")  # Sort by total time\n",
    "    ps.print_stats(10)  # Show top 10 functions\n",
    "    print(\"\\n--- Profiling Report ---\")\n",
    "    print(s.getvalue())\n",
    "\n"
   ]
  },
  {
   "cell_type": "code",
   "execution_count": null,
   "id": "81557edc",
   "metadata": {},
   "outputs": [],
   "source": []
  }
 ],
 "metadata": {
  "kernelspec": {
   "display_name": "base",
   "language": "python",
   "name": "python3"
  },
  "language_info": {
   "codemirror_mode": {
    "name": "ipython",
    "version": 3
   },
   "file_extension": ".py",
   "mimetype": "text/x-python",
   "name": "python",
   "nbconvert_exporter": "python",
   "pygments_lexer": "ipython3",
   "version": "3.12.7"
  }
 },
 "nbformat": 4,
 "nbformat_minor": 5
}
