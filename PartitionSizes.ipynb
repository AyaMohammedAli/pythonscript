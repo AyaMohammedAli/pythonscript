{
 "cells": [
  {
   "cell_type": "code",
   "execution_count": 1,
   "id": "4272a7ce",
   "metadata": {},
   "outputs": [],
   "source": [
    "import  os\n",
    "import psutil\n"
   ]
  },
  {
   "cell_type": "code",
   "execution_count": null,
   "id": "5f7fa10f",
   "metadata": {},
   "outputs": [
    {
     "data": {
      "text/plain": [
       "129657716126"
      ]
     },
     "execution_count": 6,
     "metadata": {},
     "output_type": "execute_result"
    }
   ],
   "source": [
    "def get_folder_size(path):\n",
    "    totalSize= 0\n",
    "\n",
    "    for dirpath,_,filenames in os.walk(path,onerror=lambda e:None):\n",
    "        for f in filenames:\n",
    "            try:\n",
    "                fp = os.path.join(dirpath, f)   # full path of file\n",
    "                if os.path.isfile(fp):\n",
    "                    totalSize +=os.path.getsize(fp)\n",
    "\n",
    "            except(PermissionError,FileNotFoundError):\n",
    "                continue\n",
    "    return totalSize\n",
    "\n",
    "get_folder_size('F:\\\\')\n",
    "\n"
   ]
  },
  {
   "cell_type": "code",
   "execution_count": 8,
   "id": "8a3afa0b",
   "metadata": {},
   "outputs": [
    {
     "name": "stdout",
     "output_type": "stream",
     "text": [
      "<DirEntry '$RECYCLE.BIN'>\n",
      "<DirEntry 'aya'>\n",
      "<DirEntry 'mine'>\n",
      "<DirEntry 'msqlsrvr'>\n",
      "<DirEntry 'System Volume Information'>\n"
     ]
    },
    {
     "data": {
      "text/plain": [
       "('F:\\\\mine', 123121355577)"
      ]
     },
     "execution_count": 8,
     "metadata": {},
     "output_type": "execute_result"
    }
   ],
   "source": [
    "def get_bigger_folder(root_Path):\n",
    "    size = 0;\n",
    "    biggestSize = 0;\n",
    "    biggestFolder = None;\n",
    "\n",
    "    for entery in os.scandir(root_Path): # iterate over the entires\n",
    "        print(entery)\n",
    "        try:\n",
    "    \n",
    "            if entery.is_dir(follow_symlinks=False):\n",
    "                size = get_folder_size(entery.path)\n",
    "                if size> biggestSize:\n",
    "                    biggestSize = size\n",
    "                    biggestFolder = entery.path \n",
    "        except(PermissionError,FileExistsError,FileNotFoundError):\n",
    "            continue\n",
    "    return biggestFolder,biggestSize\n",
    "\n",
    "\n",
    "\n",
    "\n",
    "get_bigger_folder('F:\\\\')\n"
   ]
  },
  {
   "cell_type": "code",
   "execution_count": null,
   "id": "c92d1133",
   "metadata": {},
   "outputs": [],
   "source": [
    "# Now i will convert the bytes to GB:\n",
    "\n"
   ]
  }
 ],
 "metadata": {
  "kernelspec": {
   "display_name": "base",
   "language": "python",
   "name": "python3"
  },
  "language_info": {
   "codemirror_mode": {
    "name": "ipython",
    "version": 3
   },
   "file_extension": ".py",
   "mimetype": "text/x-python",
   "name": "python",
   "nbconvert_exporter": "python",
   "pygments_lexer": "ipython3",
   "version": "3.12.7"
  }
 },
 "nbformat": 4,
 "nbformat_minor": 5
}
